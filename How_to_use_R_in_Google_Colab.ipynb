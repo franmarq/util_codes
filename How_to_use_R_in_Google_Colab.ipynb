{
  "nbformat": 4,
  "nbformat_minor": 0,
  "metadata": {
    "colab": {
      "name": "How to use R in Google Colab.ipynb",
      "private_outputs": true,
      "provenance": [],
      "collapsed_sections": [],
      "authorship_tag": "ABX9TyMR/ay2Sae2gPfKOCSj9oNH",
      "include_colab_link": true
    },
    "kernelspec": {
      "name": "python3",
      "display_name": "Python 3"
    },
    "language_info": {
      "name": "python"
    }
  },
  "cells": [
    {
      "cell_type": "markdown",
      "metadata": {
        "id": "view-in-github",
        "colab_type": "text"
      },
      "source": [
        "<a href=\"https://colab.research.google.com/github/franmarq/util_codes/blob/master/How_to_use_R_in_Google_Colab.ipynb\" target=\"_parent\"><img src=\"https://colab.research.google.com/assets/colab-badge.svg\" alt=\"Open In Colab\"/></a>"
      ]
    },
    {
      "cell_type": "code",
      "metadata": {
        "id": "VQz9WzqtDWMp"
      },
      "source": [
        "# Start rmagic by executing this in a cell: %load_ext rpy2.ipython\n",
        "%load_ext rpy2.ipython"
      ],
      "execution_count": null,
      "outputs": []
    },
    {
      "cell_type": "code",
      "metadata": {
        "id": "MW98hD4oDjhw"
      },
      "source": [
        "# Use %%R to execute cell magic. Use this if you want all syntax in a cell to be executed in R. \n",
        "# Note that this must be placed at the beginning of the cell.\n",
        "%%R\n",
        "x <- seq(0, 2*pi, length.out=50)\n",
        "x"
      ],
      "execution_count": null,
      "outputs": []
    },
    {
      "cell_type": "code",
      "metadata": {
        "id": "2EKp10OHDw5r"
      },
      "source": [
        "x = %R x\n",
        "x"
      ],
      "execution_count": null,
      "outputs": []
    }
  ]
}